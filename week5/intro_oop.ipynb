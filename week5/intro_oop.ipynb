{
 "cells": [
  {
   "cell_type": "markdown",
   "metadata": {},
   "source": [
    "# Intro to OOP\n",
    "- A Computer Program does two things - stores data and does stuff with data.\n",
    "- Object is a combination of attributes (variables) and methods (functions).\n",
    "- Python is an object-oriented programming language.\n",
    "- Learning OOP will help you to understand more about Python Programming."
   ]
  },
  {
   "cell_type": "markdown",
   "metadata": {},
   "source": [
    "### Creating Objects"
   ]
  },
  {
   "cell_type": "code",
   "execution_count": 2,
   "metadata": {},
   "outputs": [],
   "source": [
    "# Create an object using Class\n",
    "class Student:\n",
    "    name = \"Paing\"\n",
    "    age = 18\n",
    "    major = \"Computer Science\""
   ]
  },
  {
   "cell_type": "code",
   "execution_count": null,
   "metadata": {},
   "outputs": [],
   "source": [
    "class Mentor:\n",
    "    name = \"Thet\""
   ]
  },
  {
   "cell_type": "code",
   "execution_count": null,
   "metadata": {},
   "outputs": [
    {
     "name": "stdout",
     "output_type": "stream",
     "text": [
      "Paing\n"
     ]
    }
   ],
   "source": [
    "s1 = Student()\n",
    "print(s1.name)\n",
    "\n",
    "s2 = Student()\n",
    "print(s2.name)"
   ]
  },
  {
   "cell_type": "code",
   "execution_count": null,
   "metadata": {},
   "outputs": [],
   "source": []
  },
  {
   "cell_type": "markdown",
   "metadata": {},
   "source": [
    "### Class Constructor\n",
    "\n",
    "- All classes in Python have a function called __init__(), which is always executed when the class is being initiated.\n",
    "- You can use the __init__() function to assign values to object attributes."
   ]
  },
  {
   "cell_type": "code",
   "execution_count": 4,
   "metadata": {},
   "outputs": [],
   "source": [
    "class Student:\n",
    "    def __init__(self, your_name):\n",
    "        self.name = your_name"
   ]
  },
  {
   "cell_type": "code",
   "execution_count": 5,
   "metadata": {},
   "outputs": [
    {
     "name": "stdout",
     "output_type": "stream",
     "text": [
      "Paing\n",
      "Justin Bieber\n"
     ]
    }
   ],
   "source": [
    "s1 = Student(\"Paing\")\n",
    "print(s1.name)\n",
    "\n",
    "s2 = Student(\"Justin Bieber\")\n",
    "print(s2.name)"
   ]
  },
  {
   "cell_type": "markdown",
   "metadata": {},
   "source": [
    "### Methods - Setter/Getter\n"
   ]
  },
  {
   "cell_type": "code",
   "execution_count": 7,
   "metadata": {},
   "outputs": [],
   "source": [
    "class NewStudent:\n",
    "    def __init__(self, name):\n",
    "        self.name = name\n",
    "    \n",
    "    def setFullName(self, new_name):\n",
    "        self.name = new_name\n",
    "    \n",
    "    def getName(self):\n",
    "        return self.name"
   ]
  },
  {
   "cell_type": "code",
   "execution_count": 10,
   "metadata": {},
   "outputs": [
    {
     "name": "stdout",
     "output_type": "stream",
     "text": [
      "Paing\n",
      "Paing\n",
      "---x---\n",
      "Thet Paing Myo\n",
      "Thet Paing Myo\n"
     ]
    }
   ],
   "source": [
    "s1 = NewStudent(\"Paing\")\n",
    "print(s1.getName())\n",
    "print(s1.name)\n",
    "print(\"---x---\")\n",
    "s1.setFullName(\"Thet Paing Myo\")\n",
    "print(s1.getName())\n",
    "print(s1.name)"
   ]
  },
  {
   "cell_type": "markdown",
   "metadata": {},
   "source": [
    "### Working with Two Objects\n",
    "- Student Object and Class Object\n",
    "- One Class can have a list of Students.\n",
    "- We must be able to add student to a Class."
   ]
  },
  {
   "cell_type": "code",
   "execution_count": null,
   "metadata": {},
   "outputs": [],
   "source": [
    "class NewStudent:\n",
    "    ## Attributes\n",
    "    def __init__(self, name, age, academic_year):\n",
    "        self.name = name\n",
    "        self.age = age\n",
    "        self.academic_year = academic_year\n",
    "    \n",
    "    ## Methods\n",
    "    def setFullName(self, new_name):\n",
    "        self.name = new_name\n",
    "    \n",
    "    def getName(self):\n",
    "        return self.name\n",
    "    \n",
    "    def getAge(self):\n",
    "        return self.age\n",
    "    \n",
    "    def getAcademicYear(self):\n",
    "        return self.academic_year"
   ]
  },
  {
   "cell_type": "code",
   "execution_count": null,
   "metadata": {},
   "outputs": [],
   "source": [
    "class Classroom:\n",
    "    def __init__(self, name:str, lst_students:list):\n",
    "        self.class_name = name\n",
    "        self.list_students = lst_students\n",
    "    \n",
    "    def getAllStudentNames(self):\n",
    "        if len(self.list_students) > 0:\n",
    "            return [stu.name for stu in self.list_students]\n",
    "        else:\n",
    "            return \"No student at all!\"\n",
    "    \n",
    "    def addStudent(self, stu:NewStudent):\n",
    "        if isinstance(stu, NewStudent):\n",
    "            for student in self.list_students:\n",
    "                if stu == student:\n",
    "                    return \"This student is already enrolled!\"\n",
    "            self.list_students.append(stu)\n",
    "            print(f\"We added new student : {stu.getName()}\")\n",
    "        else:\n",
    "            print(\"Sorry, you must be student to enroll!\")\n",
    "\n",
    "    def removeStudent(self, stu:NewStudent):\n",
    "        \"\"\"Write your implementation for this function\"\"\"\n",
    "        pass"
   ]
  },
  {
   "cell_type": "code",
   "execution_count": null,
   "metadata": {},
   "outputs": [
    {
     "name": "stdout",
     "output_type": "stream",
     "text": [
      "No student at all!\n"
     ]
    }
   ],
   "source": [
    "s1 = NewStudent(\"Eminem\", 18, 2025)\n",
    "s2 = NewStudent(\"Taylor Swift\", 19, 2025)\n",
    "s3 = NewStudent(\"Lisa\", 19, 2025)\n",
    "\n",
    "cs_class = Classroom(\"Computer Science\", [])\n",
    "print(cs_class.getAllStudentNames())"
   ]
  },
  {
   "cell_type": "code",
   "execution_count": 29,
   "metadata": {},
   "outputs": [
    {
     "name": "stdout",
     "output_type": "stream",
     "text": [
      "Sorry, you must be student to enroll!\n"
     ]
    }
   ],
   "source": [
    "cs_class.addStudent(\"Paing\")"
   ]
  },
  {
   "cell_type": "code",
   "execution_count": null,
   "metadata": {},
   "outputs": [
    {
     "name": "stdout",
     "output_type": "stream",
     "text": [
      "['Eminem']\n"
     ]
    },
    {
     "data": {
      "text/plain": [
       "'This student is already enrolled!'"
      ]
     },
     "execution_count": 32,
     "metadata": {},
     "output_type": "execute_result"
    }
   ],
   "source": [
    "cs_class.addStudent(s1)\n",
    "print(cs_class.getAllStudentNames())\n",
    "\n",
    "cs_class.addStudent(s1)"
   ]
  },
  {
   "cell_type": "code",
   "execution_count": null,
   "metadata": {},
   "outputs": [
    {
     "name": "stdout",
     "output_type": "stream",
     "text": [
      "We added new student : Taylor Swift\n",
      "We added new student : Lisa\n",
      "['Eminem', 'Taylor Swift', 'Lisa']\n"
     ]
    }
   ],
   "source": [
    "cs_class.addStudent(s2)\n",
    "cs_class.addStudent(s3)\n",
    "print(cs_class.getAllStudentNames())"
   ]
  },
  {
   "cell_type": "markdown",
   "metadata": {},
   "source": [
    "## Exercise - Create your own function to remove student from the class"
   ]
  }
 ],
 "metadata": {
  "kernelspec": {
   "display_name": ".venv",
   "language": "python",
   "name": "python3"
  },
  "language_info": {
   "codemirror_mode": {
    "name": "ipython",
    "version": 3
   },
   "file_extension": ".py",
   "mimetype": "text/x-python",
   "name": "python",
   "nbconvert_exporter": "python",
   "pygments_lexer": "ipython3",
   "version": "3.12.9"
  }
 },
 "nbformat": 4,
 "nbformat_minor": 2
}
